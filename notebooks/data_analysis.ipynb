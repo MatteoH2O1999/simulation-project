{
 "cells": [
  {
   "cell_type": "code",
   "execution_count": null,
   "id": "13fe55d3",
   "metadata": {},
   "outputs": [],
   "source": [
    "import matplotlib.pyplot as plt\n",
    "import numpy as np\n",
    "import pandas as pd\n",
    "import seaborn as sns\n",
    "\n",
    "sns.set_context('paper')\n",
    "sns.set_palette('colorblind')"
   ]
  },
  {
   "cell_type": "code",
   "execution_count": null,
   "id": "5c1160d6",
   "metadata": {
    "scrolled": false
   },
   "outputs": [],
   "source": [
    "df = pd.read_csv('../anylogic/Diablo Immoral/Resources/csv/data.csv', sep=';')\n",
    "df"
   ]
  },
  {
   "cell_type": "code",
   "execution_count": null,
   "id": "5cd20004",
   "metadata": {},
   "outputs": [],
   "source": [
    "plt.figure(dpi=300)\n",
    "sns.lineplot(data=df[df.UsingFiveOutOfFive == False],\n",
    "             x='PlayedMinutesPerDay',\n",
    "             y='DaysToReachTargetNumberOfFiveStarGems')\n",
    "plt.ylabel('Days to complete task')\n",
    "plt.xlabel('Played minutes per day')\n",
    "plt.title('Days to obtain 6 five star gems')\n",
    "plt.show()"
   ]
  },
  {
   "cell_type": "code",
   "execution_count": null,
   "id": "3f7b7293",
   "metadata": {
    "scrolled": false
   },
   "outputs": [],
   "source": [
    "plt.figure(dpi=300)\n",
    "sns.lineplot(data=df[df.UsingFiveOutOfFive == True],\n",
    "             x='PlayedMinutesPerDay',\n",
    "             y='DaysToReachTargetNumberOfFiveStarGems')\n",
    "plt.ylabel('Days to complete task')\n",
    "plt.xlabel('Played minutes per day')\n",
    "plt.title('Days to obtain 6 five out of five star gems')\n",
    "plt.show()"
   ]
  }
 ],
 "metadata": {
  "kernelspec": {
   "display_name": "Python 3 (ipykernel)",
   "language": "python",
   "name": "python3"
  },
  "language_info": {
   "codemirror_mode": {
    "name": "ipython",
    "version": 3
   },
   "file_extension": ".py",
   "mimetype": "text/x-python",
   "name": "python",
   "nbconvert_exporter": "python",
   "pygments_lexer": "ipython3",
   "version": "3.10.9"
  }
 },
 "nbformat": 4,
 "nbformat_minor": 5
}
